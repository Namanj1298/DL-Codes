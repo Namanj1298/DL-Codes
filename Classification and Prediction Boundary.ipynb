{
 "cells": [
  {
   "cell_type": "code",
   "execution_count": null,
   "metadata": {
    "colab": {},
    "colab_type": "code",
    "id": "qfjzgZKSJP9L"
   },
   "outputs": [],
   "source": [
    "    import numpy as np\n",
    "    import keras\n",
    "    import matplotlib.pyplot as plt\n",
    "    from keras.models import Sequential\n",
    "    from keras.layers import Dense\n",
    "    from keras.optimizers import Adam\n",
    "    %matplotlib inline"
   ]
  },
  {
   "cell_type": "code",
   "execution_count": null,
   "metadata": {
    "colab": {
     "base_uri": "https://localhost:8080/",
     "height": 283
    },
    "colab_type": "code",
    "id": "hwPjpKpGJXkk",
    "outputId": "7cabc683-8329-4598-e0d0-db1f0a5380d4"
   },
   "outputs": [],
   "source": [
    "    n_pts = 500\n",
    "    np.random.seed(0)\n",
    "    Xa = np.array([np.random.normal(13, 2, n_pts),\n",
    "                   np.random.normal(12, 2, n_pts)]).T\n",
    "    Xb = np.array([np.random.normal(8, 2, n_pts),\n",
    "                   np.random.normal(6, 2, n_pts)]).T\n",
    "     \n",
    "    X = np.vstack((Xa, Xb))\n",
    "    y = np.matrix(np.append(np.zeros(n_pts), np.ones(n_pts))).T\n",
    "     \n",
    "    plt.scatter(X[:n_pts,0], X[:n_pts,1])\n",
    "    plt.scatter(X[n_pts:,0], X[n_pts:,1])"
   ]
  },
  {
   "cell_type": "code",
   "execution_count": null,
   "metadata": {
    "colab": {
     "base_uri": "https://localhost:8080/",
     "height": 1000
    },
    "colab_type": "code",
    "id": "x2WpVEpFJapG",
    "outputId": "35895d4d-579b-4d78-a119-d430d88e5338"
   },
   "outputs": [],
   "source": [
    "    model = Sequential()\n",
    "    model.add(Dense(units=1, input_shape=(2,), activation='sigmoid'))\n",
    "    adam=Adam(lr = 0.1 )\n",
    "    model.compile(adam, loss='binary_crossentropy', metrics=['accuracy'])\n",
    "    h=model.fit(x=X, y=y, verbose=1, batch_size=50,epochs=500, shuffle='true')"
   ]
  },
  {
   "cell_type": "code",
   "execution_count": null,
   "metadata": {
    "colab": {
     "base_uri": "https://localhost:8080/",
     "height": 313
    },
    "colab_type": "code",
    "id": "Lsef8osRJdVh",
    "outputId": "7655748c-db49-49ee-bba2-341817b2196d"
   },
   "outputs": [],
   "source": [
    "    plt.plot(h.history['accuracy'])\n",
    "     \n",
    "    plt.legend(['accuracy'])\n",
    "    plt.ylabel('accuracy')\n",
    "    plt.xlabel('epoch')\n",
    "  \n",
    "   "
   ]
  },
  {
   "cell_type": "code",
   "execution_count": null,
   "metadata": {},
   "outputs": [],
   "source": [
    "    plt.plot(h.history['loss'])\n",
    "    plt.legend(['loss'])\n",
    "    plt.title('loss')\n",
    "    plt.xlabel('epoch')"
   ]
  },
  {
   "cell_type": "code",
   "execution_count": null,
   "metadata": {
    "colab": {},
    "colab_type": "code",
    "id": "HREoGwMpJfCY"
   },
   "outputs": [],
   "source": [
    "    def plot_decision_boundary(X, y, model):\n",
    "        x_span = np.linspace(min(X[:,0]) - 1, max(X[:,0]) + 1)\n",
    "        y_span = np.linspace(min(X[:,1]) - 1, max(X[:,1]) + 1)\n",
    "        xx, yy = np.meshgrid(x_span, y_span)\n",
    "        xx_, yy_ = xx.ravel(), yy.ravel()\n",
    "        grid = np.c_[xx_, yy_]\n",
    "        pred_func = model.predict(grid)\n",
    "        z = pred_func.reshape(xx.shape)\n",
    "        plt.contourf(xx, yy, z)"
   ]
  },
  {
   "cell_type": "code",
   "execution_count": null,
   "metadata": {
    "colab": {
     "base_uri": "https://localhost:8080/",
     "height": 283
    },
    "colab_type": "code",
    "id": "M26DnYR5Jg6x",
    "outputId": "21c0b0c4-2d67-4242-d244-af0ebd22cf5a"
   },
   "outputs": [],
   "source": [
    "    plot_decision_boundary(X, y, model)\n",
    "    plt.scatter(X[:n_pts,0], X[:n_pts,1])\n",
    "    plt.scatter(X[n_pts:,0], X[n_pts:,1])\n",
    "     \n",
    "    plot_decision_boundary(X, y, model)\n",
    "    plt.scatter(X[:n_pts,0], X[:n_pts,1])\n",
    "    plt.scatter(X[n_pts:,0], X[n_pts:,1])\n",
    "\n",
    "    x = 7.5\n",
    "    y = 5\n",
    "     \n",
    "     \n",
    "    point = np.array([[x, y]])\n",
    "    prediction = model.predict(point)\n",
    "    plt.plot([x], [y], marker='o', markersize=10, color=\"red\")\n",
    "    print(\"prediction is: \",prediction)\n",
    "\n",
    "\n"
   ]
  },
  {
   "cell_type": "code",
   "execution_count": null,
   "metadata": {},
   "outputs": [],
   "source": []
  }
 ],
 "metadata": {
  "colab": {
   "collapsed_sections": [],
   "name": "Prediction.ipynb",
   "provenance": []
  },
  "kernelspec": {
   "display_name": "Python 3",
   "language": "python",
   "name": "python3"
  },
  "language_info": {
   "codemirror_mode": {
    "name": "ipython",
    "version": 3
   },
   "file_extension": ".py",
   "mimetype": "text/x-python",
   "name": "python",
   "nbconvert_exporter": "python",
   "pygments_lexer": "ipython3",
   "version": "3.8.3"
  }
 },
 "nbformat": 4,
 "nbformat_minor": 1
}
